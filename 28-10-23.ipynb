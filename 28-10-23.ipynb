{
 "cells": [
  {
   "cell_type": "code",
   "execution_count": 1,
   "id": "59c642a8-3b29-4403-baed-23f2b4f04aa6",
   "metadata": {},
   "outputs": [
    {
     "name": "stdout",
     "output_type": "stream",
     "text": [
      "Yes\n"
     ]
    }
   ],
   "source": [
    "#1Given an array, check if it contains any duplicates or not.\n",
    "#arr = [1, 2, 4, 2, 5, 9]\n",
    "#Output = True\n",
    "\n",
    "\n",
    "def checkDuplicatesWithinK(arr, n, k):\n",
    "\tfor i in range(n):\n",
    "\t\tj = i + 1\n",
    "\t\trange_ = k\n",
    "\t\twhile (range_ > 0 and j < n):\n",
    "\t\t\tif (arr[i] == arr[j]):\n",
    "\t\t\t\treturn True\n",
    "\t\t\tj += 1\n",
    "\t\t\trange_ -= 1\n",
    "\treturn False\n",
    "arr = [10, 5, 3, 4, 3, 5, 6]\n",
    "n = len(arr)\n",
    "if (checkDuplicatesWithinK(arr, n, 3) == True):\n",
    "\tprint(\"Yes\")\n",
    "else:\n",
    "\tprint(\"No\")"
   ]
  },
  {
   "cell_type": "code",
   "execution_count": 2,
   "id": "b5f8b8e5-4bcc-4797-b733-bffebb78b987",
   "metadata": {},
   "outputs": [
    {
     "name": "stdout",
     "output_type": "stream",
     "text": [
      "5 6 7 1 2 3 4 \n",
      "\n"
     ]
    }
   ],
   "source": [
    "#2Given an array and an integer k, rotate the array to the right by k steps.\n",
    "#arr = [1, 2, 3, 4, 5, 6, 7] k = 3\n",
    "#Output = [5, 6, 7, 1, 2, 3, 4]\n",
    "\n",
    "\n",
    "def RightRotate(a, n, k):\n",
    "\tk = k % n;\n",
    "\tfor i in range(0, n):\n",
    "\t\tif(i < k):\n",
    "\t\t\tprint(a[n + i - k], end = \" \");\n",
    "\t\telse:\n",
    "\t\t\tprint(a[i - k], end = \" \");\n",
    "\tprint(\"\\n\");\n",
    "Array = [ 1, 2, 3, 4, 5, 6, 7 ];\n",
    "N = len(Array);\n",
    "K = 3;\n",
    "RightRotate(Array, N, K);"
   ]
  },
  {
   "cell_type": "code",
   "execution_count": 3,
   "id": "e37d2479-0ef1-4f95-971c-04ea8ac9a915",
   "metadata": {},
   "outputs": [
    {
     "name": "stdout",
     "output_type": "stream",
     "text": [
      "5 4 2 12 9 7 "
     ]
    }
   ],
   "source": [
    "#3Reverse the given array in-place, means without using any extra data structure.\n",
    "#arr = [2, 4, 5, 7, 9, 12]\n",
    "#Output = [12, 9, 7, 5, 4, 2]\n",
    "\n",
    "\n",
    "\n",
    "def reverse(arr, n, k):\n",
    "\ti = 0\t\n",
    "\twhile(i<n):\n",
    "\t\n",
    "\t\tleft = i \n",
    "\t\tright = min(i + k - 1, n - 1) \n",
    "\t\twhile (left < right):\n",
    "\t\t\tarr[left], arr[right] = arr[right], arr[left]\n",
    "\t\t\tleft+= 1;\n",
    "\t\t\tright-=1\n",
    "\t\ti+= k\n",
    "arr = [2,4,5,7,9,12]\n",
    "k = 3\n",
    "n = len(arr) \n",
    "reverse(arr, n, k)\n",
    "for i in range(0, n):\n",
    "\t\tprint(arr[i], end =\" \")"
   ]
  },
  {
   "cell_type": "code",
   "execution_count": 4,
   "id": "c10e6bc6-523d-4417-957b-496da1cb2451",
   "metadata": {},
   "outputs": [
    {
     "name": "stdout",
     "output_type": "stream",
     "text": [
      "Largest in given array is 20\n"
     ]
    }
   ],
   "source": [
    "#4Given an array of integers, find the maximum element in an array\n",
    "#arr = [10, 5, 20, 8, 15]\n",
    "#Output = 20\n",
    "\n",
    "\n",
    "def largest(arr, n):\n",
    "\tmx = arr[0]\n",
    "\tfor i in range(1, n):\n",
    "\t\tif arr[i] > mx:\n",
    "\t\t\tmx = arr[i]\n",
    "\treturn mx\n",
    "if __name__ == '__main__':\n",
    "\tarr = [10,5,20,8,15]\n",
    "\tn = len(arr)\n",
    "\tAns = largest(arr, n)\n",
    "\tprint(\"Largest in given array is\", Ans)"
   ]
  },
  {
   "cell_type": "code",
   "execution_count": 5,
   "id": "344298ac-82b7-42a4-90f9-1a92729571fa",
   "metadata": {},
   "outputs": [
    {
     "name": "stdout",
     "output_type": "stream",
     "text": [
      "1 2 3 4 5 "
     ]
    }
   ],
   "source": [
    "#5Given a sorted array, remove the duplicate element without using any extra data structure.\n",
    "#arr = [1, 1, 2, 2, 2, 3, 3, 4, 4, 4, 5, 5]\n",
    "#Output = [1, 2, 3, 4, 5]\n",
    "\n",
    "\n",
    "\n",
    "def removeDuplicates(arr, n):\n",
    "\tif n == 0 or n == 1:\n",
    "\t\treturn n\n",
    "\ttemp = list(range(n))\n",
    "\tj = 0\n",
    "\tfor i in range(0, n-1):\n",
    "\t\tif arr[i] != arr[i+1]:\n",
    "\t\t\ttemp[j] = arr[i]\n",
    "\t\t\tj += 1\n",
    "\ttemp[j] = arr[n-1]\n",
    "\tj += 1\n",
    "\tfor i in range(0, j):\n",
    "\t\tarr[i] = temp[i]\n",
    "\treturn j\n",
    "if __name__ == '__main__':\n",
    "\tarr =  [1, 1, 2, 2, 2, 3, 3, 4, 4, 4, 5, 5]\n",
    "\tn = len(arr)\n",
    "\tn = removeDuplicates(arr, n)\n",
    "\tfor i in range(n):\n",
    "\t\tprint(\"%d\" % (arr[i]), end=\" \")"
   ]
  },
  {
   "cell_type": "code",
   "execution_count": null,
   "id": "69078ad7-9549-45b3-9374-8ae1f5fdff03",
   "metadata": {},
   "outputs": [],
   "source": []
  }
 ],
 "metadata": {
  "kernelspec": {
   "display_name": "Python 3 (ipykernel)",
   "language": "python",
   "name": "python3"
  },
  "language_info": {
   "codemirror_mode": {
    "name": "ipython",
    "version": 3
   },
   "file_extension": ".py",
   "mimetype": "text/x-python",
   "name": "python",
   "nbconvert_exporter": "python",
   "pygments_lexer": "ipython3",
   "version": "3.10.8"
  }
 },
 "nbformat": 4,
 "nbformat_minor": 5
}
